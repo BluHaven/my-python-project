{
 "cells": [
  {
   "cell_type": "markdown",
   "metadata": {},
   "source": [
    "# Final Project Exploratory Data Analysis\n",
    "# PC Games Released on Epic Games' Online Store up until 05/16/2020"
   ]
  },
  {
   "cell_type": "markdown",
   "metadata": {},
   "source": [
    "Lets start by importing the libraries that will be needed."
   ]
  },
  {
   "cell_type": "code",
   "execution_count": 1,
   "metadata": {},
   "outputs": [],
   "source": [
    "import pandas as pd\n",
    "import numpy as np\n",
    "import matplotlib as mpl\n",
    "import matplotlib.pyplot as plt\n",
    "import seaborn as sns\n",
    "import matplotlib.dates\n",
    "\n",
    "from os import path\n",
    "from PIL import Image\n",
    "from wordcloud import WordCloud, STOPWORDS, ImageColorGenerator\n",
    "%matplotlib inline"
   ]
  },
  {
   "cell_type": "markdown",
   "metadata": {},
   "source": [
    "   "
   ]
  },
  {
   "cell_type": "markdown",
   "metadata": {},
   "source": [
    "  Now, let's import the csv file that will be used and add it to a variable that will be called, \"gameSales\". Let's also add a little bit of html and css to make the data look better."
   ]
  },
  {
   "cell_type": "code",
   "execution_count": 2,
   "metadata": {
    "scrolled": false
   },
   "outputs": [
    {
     "data": {
      "text/html": [
       "<div>\n",
       "<style scoped>\n",
       "    .dataframe tbody tr th:only-of-type {\n",
       "        vertical-align: middle;\n",
       "    }\n",
       "\n",
       "    .dataframe tbody tr th {\n",
       "        vertical-align: top;\n",
       "    }\n",
       "\n",
       "    .dataframe thead th {\n",
       "        text-align: right;\n",
       "    }\n",
       "</style>\n",
       "<table border=\"1\" class=\"dataframe\">\n",
       "  <thead>\n",
       "    <tr style=\"text-align: right;\">\n",
       "      <th></th>\n",
       "      <th>title</th>\n",
       "      <th>description</th>\n",
       "      <th>publisher</th>\n",
       "      <th>developer</th>\n",
       "      <th>age</th>\n",
       "      <th>effective_date</th>\n",
       "      <th>platforms</th>\n",
       "      <th>price</th>\n",
       "    </tr>\n",
       "  </thead>\n",
       "  <tbody>\n",
       "    <tr>\n",
       "      <td>0</td>\n",
       "      <td>Among Trees</td>\n",
       "      <td>Among Trees</td>\n",
       "      <td>FJRD Interactive</td>\n",
       "      <td>NaN</td>\n",
       "      <td>NaN</td>\n",
       "      <td>2099-01-01T00:00:00.000Z</td>\n",
       "      <td>Windows</td>\n",
       "      <td>0</td>\n",
       "    </tr>\n",
       "    <tr>\n",
       "      <td>1</td>\n",
       "      <td>Flower</td>\n",
       "      <td>Flower</td>\n",
       "      <td>Annapurna Interactive</td>\n",
       "      <td>NaN</td>\n",
       "      <td>NaN</td>\n",
       "      <td>2019-02-14T16:00:00.000Z</td>\n",
       "      <td>Windows</td>\n",
       "      <td>$6.99</td>\n",
       "    </tr>\n",
       "    <tr>\n",
       "      <td>2</td>\n",
       "      <td>Metro: 2033 Redux</td>\n",
       "      <td>Metro: 2033 Redux</td>\n",
       "      <td>Deep Silver</td>\n",
       "      <td>NaN</td>\n",
       "      <td>18.0</td>\n",
       "      <td>2019-09-24T10:29:00.000Z</td>\n",
       "      <td>Windows</td>\n",
       "      <td>$19.99</td>\n",
       "    </tr>\n",
       "    <tr>\n",
       "      <td>3</td>\n",
       "      <td>Metro: Last Light Redux</td>\n",
       "      <td>Metro: Last Light Redux</td>\n",
       "      <td>Deep Silver</td>\n",
       "      <td>NaN</td>\n",
       "      <td>18.0</td>\n",
       "      <td>2019-05-13T15:00:00.000Z</td>\n",
       "      <td>Windows</td>\n",
       "      <td>$19.99</td>\n",
       "    </tr>\n",
       "    <tr>\n",
       "      <td>4</td>\n",
       "      <td>The Crew 2</td>\n",
       "      <td>The Crew 2 Standard Edition</td>\n",
       "      <td>Ubisoft</td>\n",
       "      <td>NaN</td>\n",
       "      <td>NaN</td>\n",
       "      <td>2019-12-04T11:00:00.000Z</td>\n",
       "      <td>Windows</td>\n",
       "      <td>$59.99</td>\n",
       "    </tr>\n",
       "    <tr>\n",
       "      <td>5</td>\n",
       "      <td>Nuclear Throne</td>\n",
       "      <td>Nuclear Throne</td>\n",
       "      <td>Ubisoft</td>\n",
       "      <td>NaN</td>\n",
       "      <td>NaN</td>\n",
       "      <td>2019-11-07T16:00:00.000Z</td>\n",
       "      <td>Windows</td>\n",
       "      <td>$11.99</td>\n",
       "    </tr>\n",
       "    <tr>\n",
       "      <td>6</td>\n",
       "      <td>Arise: A Simple Story</td>\n",
       "      <td>Arise A Simple Story</td>\n",
       "      <td>Techland</td>\n",
       "      <td>NaN</td>\n",
       "      <td>NaN</td>\n",
       "      <td>2019-12-02T16:00:00.000Z</td>\n",
       "      <td>Windows</td>\n",
       "      <td>$19.99</td>\n",
       "    </tr>\n",
       "    <tr>\n",
       "      <td>7</td>\n",
       "      <td>Battle Breakers</td>\n",
       "      <td>Battle Breakers</td>\n",
       "      <td>Techland</td>\n",
       "      <td>NaN</td>\n",
       "      <td>NaN</td>\n",
       "      <td>2019-11-13T18:00:00.000Z</td>\n",
       "      <td>NaN</td>\n",
       "      <td>0</td>\n",
       "    </tr>\n",
       "    <tr>\n",
       "      <td>8</td>\n",
       "      <td>South Park: The Fractured But Whole</td>\n",
       "      <td>South Park: The Fractured But Whole Standard E...</td>\n",
       "      <td>Techland</td>\n",
       "      <td>NaN</td>\n",
       "      <td>18.0</td>\n",
       "      <td>2019-12-20T16:00:00.000Z</td>\n",
       "      <td>Windows</td>\n",
       "      <td>$49.99</td>\n",
       "    </tr>\n",
       "    <tr>\n",
       "      <td>9</td>\n",
       "      <td>SOMA</td>\n",
       "      <td>SOMA</td>\n",
       "      <td>Frictional Games</td>\n",
       "      <td>NaN</td>\n",
       "      <td>18.0</td>\n",
       "      <td>2019-10-31T15:00:00.000Z</td>\n",
       "      <td>Windows,Mac</td>\n",
       "      <td>$29.99</td>\n",
       "    </tr>\n",
       "    <tr>\n",
       "      <td>10</td>\n",
       "      <td>Phantom Brigade</td>\n",
       "      <td>Phantom Brigade</td>\n",
       "      <td>Frictional Games</td>\n",
       "      <td>NaN</td>\n",
       "      <td>NaN</td>\n",
       "      <td>2099-01-01T00:00:00.000Z</td>\n",
       "      <td>Windows</td>\n",
       "      <td>0</td>\n",
       "    </tr>\n",
       "    <tr>\n",
       "      <td>11</td>\n",
       "      <td>Manifold Garden</td>\n",
       "      <td>Manifold Garden</td>\n",
       "      <td>Frictional Games</td>\n",
       "      <td>NaN</td>\n",
       "      <td>NaN</td>\n",
       "      <td>2019-10-11T00:00:00.000Z</td>\n",
       "      <td>Windows</td>\n",
       "      <td>$19.99</td>\n",
       "    </tr>\n",
       "    <tr>\n",
       "      <td>12</td>\n",
       "      <td>Far Cry 5</td>\n",
       "      <td>Far Cry 5 Standard Edition</td>\n",
       "      <td>Frictional Games</td>\n",
       "      <td>NaN</td>\n",
       "      <td>18.0</td>\n",
       "      <td>2020-02-07T00:00:00.000Z</td>\n",
       "      <td>NaN</td>\n",
       "      <td>$59.99</td>\n",
       "    </tr>\n",
       "    <tr>\n",
       "      <td>13</td>\n",
       "      <td>Far Cry New Dawn</td>\n",
       "      <td>Far Cry New Dawn Standard Edition</td>\n",
       "      <td>Frictional Games</td>\n",
       "      <td>NaN</td>\n",
       "      <td>18.0</td>\n",
       "      <td>2020-02-07T16:00:00.000Z</td>\n",
       "      <td>NaN</td>\n",
       "      <td>$39.99</td>\n",
       "    </tr>\n",
       "    <tr>\n",
       "      <td>14</td>\n",
       "      <td>Falcon Age</td>\n",
       "      <td>Falcon Age</td>\n",
       "      <td>Frictional Games</td>\n",
       "      <td>NaN</td>\n",
       "      <td>NaN</td>\n",
       "      <td>2019-09-05T10:55:00.000Z</td>\n",
       "      <td>Windows</td>\n",
       "      <td>$19.99</td>\n",
       "    </tr>\n",
       "    <tr>\n",
       "      <td>15</td>\n",
       "      <td>Assassin's Creed Origins</td>\n",
       "      <td>Assassin's Creed Origins</td>\n",
       "      <td>Frictional Games</td>\n",
       "      <td>NaN</td>\n",
       "      <td>18.0</td>\n",
       "      <td>2019-11-27T16:00:00.000Z</td>\n",
       "      <td>NaN</td>\n",
       "      <td>$59.99</td>\n",
       "    </tr>\n",
       "    <tr>\n",
       "      <td>16</td>\n",
       "      <td>Assassin's Creed III Remastered</td>\n",
       "      <td>Assassin's Creed III Remastered</td>\n",
       "      <td>Frictional Games</td>\n",
       "      <td>NaN</td>\n",
       "      <td>18.0</td>\n",
       "      <td>2019-10-22T15:00:00.000Z</td>\n",
       "      <td>NaN</td>\n",
       "      <td>$39.99</td>\n",
       "    </tr>\n",
       "    <tr>\n",
       "      <td>17</td>\n",
       "      <td>Cyberpunk 2077</td>\n",
       "      <td>Cyberpunk 2077 Pre-Purchase</td>\n",
       "      <td>Frictional Games</td>\n",
       "      <td>NaN</td>\n",
       "      <td>18.0</td>\n",
       "      <td>2019-06-12T16:00:00.000Z</td>\n",
       "      <td>Windows</td>\n",
       "      <td>$59.99</td>\n",
       "    </tr>\n",
       "    <tr>\n",
       "      <td>18</td>\n",
       "      <td>Mutant Year Zero: Road To Eden</td>\n",
       "      <td>Mutant Year Zero</td>\n",
       "      <td>Funcom</td>\n",
       "      <td>NaN</td>\n",
       "      <td>15.0</td>\n",
       "      <td>2019-08-14T00:00:00.000Z</td>\n",
       "      <td>Windows</td>\n",
       "      <td>$34.99</td>\n",
       "    </tr>\n",
       "    <tr>\n",
       "      <td>19</td>\n",
       "      <td>Far Cry 4</td>\n",
       "      <td>Far Cry 4 Standard Edition</td>\n",
       "      <td>Funcom</td>\n",
       "      <td>NaN</td>\n",
       "      <td>18.0</td>\n",
       "      <td>2020-02-04T16:00:00.000Z</td>\n",
       "      <td>Windows</td>\n",
       "      <td>$29.99</td>\n",
       "    </tr>\n",
       "    <tr>\n",
       "      <td>20</td>\n",
       "      <td>A Knights Quest</td>\n",
       "      <td>A Knights Quest</td>\n",
       "      <td>Curve Digital</td>\n",
       "      <td>NaN</td>\n",
       "      <td>NaN</td>\n",
       "      <td>2019-10-09T13:00:00.000Z</td>\n",
       "      <td>Windows</td>\n",
       "      <td>$24.99</td>\n",
       "    </tr>\n",
       "    <tr>\n",
       "      <td>21</td>\n",
       "      <td>Far Cry 3 Blood Dragon</td>\n",
       "      <td>Far Cry 3 Blood Dragon</td>\n",
       "      <td>Curve Digital</td>\n",
       "      <td>NaN</td>\n",
       "      <td>18.0</td>\n",
       "      <td>2020-02-18T16:00:00.000Z</td>\n",
       "      <td>Windows</td>\n",
       "      <td>$14.99</td>\n",
       "    </tr>\n",
       "    <tr>\n",
       "      <td>22</td>\n",
       "      <td>Before We Leave</td>\n",
       "      <td>Before We Leave</td>\n",
       "      <td>Balancing Monkey Games</td>\n",
       "      <td>NaN</td>\n",
       "      <td>NaN</td>\n",
       "      <td>2020-05-07T14:00:00.000Z</td>\n",
       "      <td>Windows</td>\n",
       "      <td>$19.99</td>\n",
       "    </tr>\n",
       "    <tr>\n",
       "      <td>23</td>\n",
       "      <td>Auto Chess</td>\n",
       "      <td>Auto Chess</td>\n",
       "      <td>Balancing Monkey Games</td>\n",
       "      <td>NaN</td>\n",
       "      <td>NaN</td>\n",
       "      <td>2019-08-23T15:00:00.000Z</td>\n",
       "      <td>Windows,Win32</td>\n",
       "      <td>0</td>\n",
       "    </tr>\n",
       "    <tr>\n",
       "      <td>24</td>\n",
       "      <td>WHAT THE GOLF?</td>\n",
       "      <td>WHAT THE GOLF?</td>\n",
       "      <td>Balancing Monkey Games</td>\n",
       "      <td>NaN</td>\n",
       "      <td>NaN</td>\n",
       "      <td>2019-09-20T00:00:00.000Z</td>\n",
       "      <td>Windows,Mac</td>\n",
       "      <td>$19.99</td>\n",
       "    </tr>\n",
       "    <tr>\n",
       "      <td>25</td>\n",
       "      <td>Tom Clancy's Rainbow Six Quarantine</td>\n",
       "      <td>Rainbow Six Quarantine</td>\n",
       "      <td>Balancing Monkey Games</td>\n",
       "      <td>NaN</td>\n",
       "      <td>NaN</td>\n",
       "      <td>2099-01-01T00:00:00.000Z</td>\n",
       "      <td>Windows</td>\n",
       "      <td>0</td>\n",
       "    </tr>\n",
       "    <tr>\n",
       "      <td>26</td>\n",
       "      <td>Far Cry 3</td>\n",
       "      <td>Far Cry 3</td>\n",
       "      <td>Balancing Monkey Games</td>\n",
       "      <td>NaN</td>\n",
       "      <td>18.0</td>\n",
       "      <td>2020-02-07T00:00:00.000Z</td>\n",
       "      <td>NaN</td>\n",
       "      <td>$19.99</td>\n",
       "    </tr>\n",
       "    <tr>\n",
       "      <td>27</td>\n",
       "      <td>South Park: The Stick of Truth</td>\n",
       "      <td>South Park: The Stick of Truth</td>\n",
       "      <td>Balancing Monkey Games</td>\n",
       "      <td>NaN</td>\n",
       "      <td>18.0</td>\n",
       "      <td>2019-12-20T16:00:00.000Z</td>\n",
       "      <td>Windows</td>\n",
       "      <td>$29.99</td>\n",
       "    </tr>\n",
       "    <tr>\n",
       "      <td>28</td>\n",
       "      <td>Star Wars Jedi: Fallen Order</td>\n",
       "      <td>Star Wars Jedi Fallen Order</td>\n",
       "      <td>Electronic Arts</td>\n",
       "      <td>NaN</td>\n",
       "      <td>NaN</td>\n",
       "      <td>2019-11-14T05:00:00.000Z</td>\n",
       "      <td>NaN</td>\n",
       "      <td>$59.99</td>\n",
       "    </tr>\n",
       "    <tr>\n",
       "      <td>29</td>\n",
       "      <td>Rainbow Six Siege</td>\n",
       "      <td>Rainbow Six Siege Standard Edition Y5</td>\n",
       "      <td>Electronic Arts</td>\n",
       "      <td>NaN</td>\n",
       "      <td>18.0</td>\n",
       "      <td>2019-08-19T00:00:00.000Z</td>\n",
       "      <td>Windows</td>\n",
       "      <td>$19.99</td>\n",
       "    </tr>\n",
       "    <tr>\n",
       "      <td>30</td>\n",
       "      <td>Inside</td>\n",
       "      <td>Inside</td>\n",
       "      <td>Electronic Arts</td>\n",
       "      <td>NaN</td>\n",
       "      <td>18.0</td>\n",
       "      <td>2019-08-29T15:00:00.000Z</td>\n",
       "      <td>Windows</td>\n",
       "      <td>$19.99</td>\n",
       "    </tr>\n",
       "    <tr>\n",
       "      <td>31</td>\n",
       "      <td>Foregone</td>\n",
       "      <td>Foregone</td>\n",
       "      <td>Big Blue Bubble</td>\n",
       "      <td>NaN</td>\n",
       "      <td>NaN</td>\n",
       "      <td>2019-01-01T01:00:00.000Z</td>\n",
       "      <td>Windows</td>\n",
       "      <td>$24.99</td>\n",
       "    </tr>\n",
       "    <tr>\n",
       "      <td>32</td>\n",
       "      <td>Surgeon Simulator 2</td>\n",
       "      <td>Surgeon Simulator 2</td>\n",
       "      <td>Bossa</td>\n",
       "      <td>NaN</td>\n",
       "      <td>NaN</td>\n",
       "      <td>2099-01-01T00:00:00.000Z</td>\n",
       "      <td>Windows</td>\n",
       "      <td>0</td>\n",
       "    </tr>\n",
       "    <tr>\n",
       "      <td>33</td>\n",
       "      <td>The Red Lantern</td>\n",
       "      <td>The Red Lantern</td>\n",
       "      <td>Timberline Studio</td>\n",
       "      <td>NaN</td>\n",
       "      <td>NaN</td>\n",
       "      <td>2099-01-01T00:00:00.000Z</td>\n",
       "      <td>NaN</td>\n",
       "      <td>0</td>\n",
       "    </tr>\n",
       "    <tr>\n",
       "      <td>34</td>\n",
       "      <td>The Telltale Batman Shadows Edition</td>\n",
       "      <td>The Telltale Batman Shadows Edition</td>\n",
       "      <td>Athlon Games</td>\n",
       "      <td>NaN</td>\n",
       "      <td>NaN</td>\n",
       "      <td>2019-12-16T09:00:00.000Z</td>\n",
       "      <td>Windows</td>\n",
       "      <td>$29.99</td>\n",
       "    </tr>\n",
       "    <tr>\n",
       "      <td>35</td>\n",
       "      <td>ABZU</td>\n",
       "      <td>ABZU</td>\n",
       "      <td>505 Games</td>\n",
       "      <td>NaN</td>\n",
       "      <td>NaN</td>\n",
       "      <td>2019-09-04T00:00:00.000Z</td>\n",
       "      <td>Windows</td>\n",
       "      <td>$19.99</td>\n",
       "    </tr>\n",
       "    <tr>\n",
       "      <td>36</td>\n",
       "      <td>Magic The Gathering Arena</td>\n",
       "      <td>Magic: The Gathering Arena</td>\n",
       "      <td>505 Games</td>\n",
       "      <td>NaN</td>\n",
       "      <td>NaN</td>\n",
       "      <td>2020-01-16T18:00:00.000Z</td>\n",
       "      <td>Windows,Win32</td>\n",
       "      <td>0</td>\n",
       "    </tr>\n",
       "    <tr>\n",
       "      <td>37</td>\n",
       "      <td>ReadySet Heroes</td>\n",
       "      <td>ReadySet Heroes</td>\n",
       "      <td>Sony Interactive Entertainment</td>\n",
       "      <td>NaN</td>\n",
       "      <td>NaN</td>\n",
       "      <td>2019-10-29T00:00:00.000Z</td>\n",
       "      <td>Windows</td>\n",
       "      <td>$19.99</td>\n",
       "    </tr>\n",
       "    <tr>\n",
       "      <td>38</td>\n",
       "      <td>Wattam</td>\n",
       "      <td>Wattam</td>\n",
       "      <td>Annapurna Interactive</td>\n",
       "      <td>NaN</td>\n",
       "      <td>NaN</td>\n",
       "      <td>2019-12-16T11:00:00.000Z</td>\n",
       "      <td>Windows</td>\n",
       "      <td>$19.99</td>\n",
       "    </tr>\n",
       "    <tr>\n",
       "      <td>39</td>\n",
       "      <td>The Walking Dead: The Telltale Definitive Series</td>\n",
       "      <td>TWD: The Telltale Definitive Series</td>\n",
       "      <td>Skybound Entertainment</td>\n",
       "      <td>NaN</td>\n",
       "      <td>NaN</td>\n",
       "      <td>2019-09-06T00:00:00.000Z</td>\n",
       "      <td>Windows</td>\n",
       "      <td>$49.99</td>\n",
       "    </tr>\n",
       "    <tr>\n",
       "      <td>40</td>\n",
       "      <td>The Jackbox Party Pack 6</td>\n",
       "      <td>The Jackbox Party Pack 6</td>\n",
       "      <td>Jackbox Games</td>\n",
       "      <td>NaN</td>\n",
       "      <td>NaN</td>\n",
       "      <td>2019-10-17T15:00:00.000Z</td>\n",
       "      <td>Windows,Mac</td>\n",
       "      <td>$29.99</td>\n",
       "    </tr>\n",
       "    <tr>\n",
       "      <td>41</td>\n",
       "      <td>Everything</td>\n",
       "      <td>Everything</td>\n",
       "      <td>Jackbox Games</td>\n",
       "      <td>NaN</td>\n",
       "      <td>NaN</td>\n",
       "      <td>2019-09-20T00:00:00.000Z</td>\n",
       "      <td>Windows</td>\n",
       "      <td>$14.99</td>\n",
       "    </tr>\n",
       "    <tr>\n",
       "      <td>42</td>\n",
       "      <td>Bee Simulator</td>\n",
       "      <td>Bee Simulator</td>\n",
       "      <td>Bigben Interactive</td>\n",
       "      <td>NaN</td>\n",
       "      <td>NaN</td>\n",
       "      <td>2019-11-13T18:00:00.000Z</td>\n",
       "      <td>Windows</td>\n",
       "      <td>$39.99</td>\n",
       "    </tr>\n",
       "    <tr>\n",
       "      <td>43</td>\n",
       "      <td>Batman™: Arkham Knight</td>\n",
       "      <td>Batman™ Arkham Knight</td>\n",
       "      <td>Warner Bros.</td>\n",
       "      <td>NaN</td>\n",
       "      <td>18.0</td>\n",
       "      <td>2019-09-26T15:00:00.000Z</td>\n",
       "      <td>Windows</td>\n",
       "      <td>$19.99</td>\n",
       "    </tr>\n",
       "    <tr>\n",
       "      <td>44</td>\n",
       "      <td>LEGO® Batman™ 2: DC Super Heroes</td>\n",
       "      <td>LEGO® Batman™ 2 DC Super Heroes</td>\n",
       "      <td>Warner Bros.</td>\n",
       "      <td>NaN</td>\n",
       "      <td>NaN</td>\n",
       "      <td>2019-09-26T15:00:00.000Z</td>\n",
       "      <td>Windows</td>\n",
       "      <td>$19.99</td>\n",
       "    </tr>\n",
       "    <tr>\n",
       "      <td>45</td>\n",
       "      <td>Yaga</td>\n",
       "      <td>Yaga</td>\n",
       "      <td>Versus Evil</td>\n",
       "      <td>NaN</td>\n",
       "      <td>18.0</td>\n",
       "      <td>2019-11-01T00:00:00.000Z</td>\n",
       "      <td>Windows</td>\n",
       "      <td>$24.99</td>\n",
       "    </tr>\n",
       "    <tr>\n",
       "      <td>46</td>\n",
       "      <td>Death Stranding</td>\n",
       "      <td>Death Stranding Pre-Purchase</td>\n",
       "      <td>505 Games S.r.l.</td>\n",
       "      <td>NaN</td>\n",
       "      <td>18.0</td>\n",
       "      <td>2019-11-01T10:00:00.000Z</td>\n",
       "      <td>Windows</td>\n",
       "      <td>$59.99</td>\n",
       "    </tr>\n",
       "    <tr>\n",
       "      <td>47</td>\n",
       "      <td>Cardpocalypse</td>\n",
       "      <td>Cardpocalypse</td>\n",
       "      <td>Versus Evil</td>\n",
       "      <td>NaN</td>\n",
       "      <td>NaN</td>\n",
       "      <td>2019-09-13T06:00:00.000Z</td>\n",
       "      <td>Windows</td>\n",
       "      <td>$24.99</td>\n",
       "    </tr>\n",
       "    <tr>\n",
       "      <td>48</td>\n",
       "      <td>No Straight Roads</td>\n",
       "      <td>No Straight Roads Pre-Purchase</td>\n",
       "      <td>Sold-Out Software</td>\n",
       "      <td>NaN</td>\n",
       "      <td>NaN</td>\n",
       "      <td>2019-08-28T14:00:00.000Z</td>\n",
       "      <td>Windows</td>\n",
       "      <td>$39.99</td>\n",
       "    </tr>\n",
       "    <tr>\n",
       "      <td>49</td>\n",
       "      <td>Bloodroots</td>\n",
       "      <td>Bloodroots</td>\n",
       "      <td>Sold-Out Software</td>\n",
       "      <td>NaN</td>\n",
       "      <td>NaN</td>\n",
       "      <td>2020-02-27T16:00:00.000Z</td>\n",
       "      <td>Windows</td>\n",
       "      <td>$19.99</td>\n",
       "    </tr>\n",
       "    <tr>\n",
       "      <td>50</td>\n",
       "      <td>Rogue Company</td>\n",
       "      <td>Rogue Company</td>\n",
       "      <td>Sold-Out Software</td>\n",
       "      <td>NaN</td>\n",
       "      <td>NaN</td>\n",
       "      <td>2099-01-01T00:00:00.000Z</td>\n",
       "      <td>Windows</td>\n",
       "      <td>0</td>\n",
       "    </tr>\n",
       "    <tr>\n",
       "      <td>51</td>\n",
       "      <td>Superliminal</td>\n",
       "      <td>Superliminal</td>\n",
       "      <td>Sold-Out Software</td>\n",
       "      <td>NaN</td>\n",
       "      <td>NaN</td>\n",
       "      <td>2019-11-01T00:00:00.000Z</td>\n",
       "      <td>Windows</td>\n",
       "      <td>$19.99</td>\n",
       "    </tr>\n",
       "    <tr>\n",
       "      <td>52</td>\n",
       "      <td>SuperMash</td>\n",
       "      <td>SuperMash</td>\n",
       "      <td>Sold-Out Software</td>\n",
       "      <td>NaN</td>\n",
       "      <td>NaN</td>\n",
       "      <td>2019-12-09T16:00:00.000Z</td>\n",
       "      <td>Windows</td>\n",
       "      <td>$19.99</td>\n",
       "    </tr>\n",
       "    <tr>\n",
       "      <td>53</td>\n",
       "      <td>RUINER</td>\n",
       "      <td>RUINER</td>\n",
       "      <td>Devolver Digital</td>\n",
       "      <td>NaN</td>\n",
       "      <td>18.0</td>\n",
       "      <td>2019-11-07T16:00:00.000Z</td>\n",
       "      <td>Windows</td>\n",
       "      <td>$19.99</td>\n",
       "    </tr>\n",
       "    <tr>\n",
       "      <td>54</td>\n",
       "      <td>Surviving the Aftermath</td>\n",
       "      <td>Surviving the Aftermath</td>\n",
       "      <td>Paradox Interactive AB</td>\n",
       "      <td>NaN</td>\n",
       "      <td>NaN</td>\n",
       "      <td>2019-10-18T00:00:00.000Z</td>\n",
       "      <td>Windows</td>\n",
       "      <td>$19.99</td>\n",
       "    </tr>\n",
       "    <tr>\n",
       "      <td>55</td>\n",
       "      <td>Alan Wake's American Nightmare</td>\n",
       "      <td>Alan Wake's American Nightmare</td>\n",
       "      <td>Paradox Interactive AB</td>\n",
       "      <td>NaN</td>\n",
       "      <td>15.0</td>\n",
       "      <td>2019-10-17T15:00:00.000Z</td>\n",
       "      <td>Windows</td>\n",
       "      <td>$8.99</td>\n",
       "    </tr>\n",
       "    <tr>\n",
       "      <td>56</td>\n",
       "      <td>Airborne Kingdom</td>\n",
       "      <td>Airborne Kingdom</td>\n",
       "      <td>Paradox Interactive AB</td>\n",
       "      <td>NaN</td>\n",
       "      <td>NaN</td>\n",
       "      <td>2099-01-01T00:00:00.000Z</td>\n",
       "      <td>Windows,Win32,Mac</td>\n",
       "      <td>0</td>\n",
       "    </tr>\n",
       "    <tr>\n",
       "      <td>57</td>\n",
       "      <td>The Messenger</td>\n",
       "      <td>The Messenger</td>\n",
       "      <td>Devolver Digital</td>\n",
       "      <td>NaN</td>\n",
       "      <td>NaN</td>\n",
       "      <td>2019-11-14T16:00:00.000Z</td>\n",
       "      <td>Windows</td>\n",
       "      <td>$19.99</td>\n",
       "    </tr>\n",
       "    <tr>\n",
       "      <td>58</td>\n",
       "      <td>LEGO® Batman™ The Videogame</td>\n",
       "      <td>LEGO® Batman™: The Videogame</td>\n",
       "      <td>Warner Bros.</td>\n",
       "      <td>NaN</td>\n",
       "      <td>NaN</td>\n",
       "      <td>2019-09-26T15:00:00.000Z</td>\n",
       "      <td>Windows</td>\n",
       "      <td>$19.99</td>\n",
       "    </tr>\n",
       "    <tr>\n",
       "      <td>59</td>\n",
       "      <td>LEGO® Batman™ 3: Beyond Gotham</td>\n",
       "      <td>LEGO® Batman™ 3 Beyond Gotham</td>\n",
       "      <td>Warner Bros.</td>\n",
       "      <td>NaN</td>\n",
       "      <td>NaN</td>\n",
       "      <td>2019-09-26T15:00:00.000Z</td>\n",
       "      <td>Windows</td>\n",
       "      <td>$19.99</td>\n",
       "    </tr>\n",
       "  </tbody>\n",
       "</table>\n",
       "</div>"
      ],
      "text/plain": [
       "                                               title  \\\n",
       "0                                        Among Trees   \n",
       "1                                             Flower   \n",
       "2                                  Metro: 2033 Redux   \n",
       "3                            Metro: Last Light Redux   \n",
       "4                                         The Crew 2   \n",
       "5                                     Nuclear Throne   \n",
       "6                              Arise: A Simple Story   \n",
       "7                                    Battle Breakers   \n",
       "8                South Park: The Fractured But Whole   \n",
       "9                                               SOMA   \n",
       "10                                   Phantom Brigade   \n",
       "11                                   Manifold Garden   \n",
       "12                                         Far Cry 5   \n",
       "13                                  Far Cry New Dawn   \n",
       "14                                        Falcon Age   \n",
       "15                          Assassin's Creed Origins   \n",
       "16                   Assassin's Creed III Remastered   \n",
       "17                                    Cyberpunk 2077   \n",
       "18                    Mutant Year Zero: Road To Eden   \n",
       "19                                         Far Cry 4   \n",
       "20                                   A Knights Quest   \n",
       "21                            Far Cry 3 Blood Dragon   \n",
       "22                                   Before We Leave   \n",
       "23                                        Auto Chess   \n",
       "24                                    WHAT THE GOLF?   \n",
       "25               Tom Clancy's Rainbow Six Quarantine   \n",
       "26                                         Far Cry 3   \n",
       "27                    South Park: The Stick of Truth   \n",
       "28                      Star Wars Jedi: Fallen Order   \n",
       "29                                 Rainbow Six Siege   \n",
       "30                                            Inside   \n",
       "31                                          Foregone   \n",
       "32                               Surgeon Simulator 2   \n",
       "33                                   The Red Lantern   \n",
       "34               The Telltale Batman Shadows Edition   \n",
       "35                                              ABZU   \n",
       "36                         Magic The Gathering Arena   \n",
       "37                                   ReadySet Heroes   \n",
       "38                                            Wattam   \n",
       "39  The Walking Dead: The Telltale Definitive Series   \n",
       "40                          The Jackbox Party Pack 6   \n",
       "41                                        Everything   \n",
       "42                                     Bee Simulator   \n",
       "43                            Batman™: Arkham Knight   \n",
       "44                  LEGO® Batman™ 2: DC Super Heroes   \n",
       "45                                              Yaga   \n",
       "46                                   Death Stranding   \n",
       "47                                     Cardpocalypse   \n",
       "48                                 No Straight Roads   \n",
       "49                                        Bloodroots   \n",
       "50                                     Rogue Company   \n",
       "51                                      Superliminal   \n",
       "52                                         SuperMash   \n",
       "53                                            RUINER   \n",
       "54                           Surviving the Aftermath   \n",
       "55                    Alan Wake's American Nightmare   \n",
       "56                                  Airborne Kingdom   \n",
       "57                                     The Messenger   \n",
       "58                       LEGO® Batman™ The Videogame   \n",
       "59                    LEGO® Batman™ 3: Beyond Gotham   \n",
       "\n",
       "                                          description  \\\n",
       "0                                         Among Trees   \n",
       "1                                              Flower   \n",
       "2                                   Metro: 2033 Redux   \n",
       "3                             Metro: Last Light Redux   \n",
       "4                         The Crew 2 Standard Edition   \n",
       "5                                      Nuclear Throne   \n",
       "6                                Arise A Simple Story   \n",
       "7                                     Battle Breakers   \n",
       "8   South Park: The Fractured But Whole Standard E...   \n",
       "9                                                SOMA   \n",
       "10                                    Phantom Brigade   \n",
       "11                                    Manifold Garden   \n",
       "12                         Far Cry 5 Standard Edition   \n",
       "13                  Far Cry New Dawn Standard Edition   \n",
       "14                                         Falcon Age   \n",
       "15                           Assassin's Creed Origins   \n",
       "16                    Assassin's Creed III Remastered   \n",
       "17                        Cyberpunk 2077 Pre-Purchase   \n",
       "18                                   Mutant Year Zero   \n",
       "19                         Far Cry 4 Standard Edition   \n",
       "20                                    A Knights Quest   \n",
       "21                             Far Cry 3 Blood Dragon   \n",
       "22                                    Before We Leave   \n",
       "23                                         Auto Chess   \n",
       "24                                     WHAT THE GOLF?   \n",
       "25                             Rainbow Six Quarantine   \n",
       "26                                          Far Cry 3   \n",
       "27                     South Park: The Stick of Truth   \n",
       "28                        Star Wars Jedi Fallen Order   \n",
       "29              Rainbow Six Siege Standard Edition Y5   \n",
       "30                                             Inside   \n",
       "31                                           Foregone   \n",
       "32                                Surgeon Simulator 2   \n",
       "33                                    The Red Lantern   \n",
       "34                The Telltale Batman Shadows Edition   \n",
       "35                                               ABZU   \n",
       "36                         Magic: The Gathering Arena   \n",
       "37                                    ReadySet Heroes   \n",
       "38                                             Wattam   \n",
       "39                TWD: The Telltale Definitive Series   \n",
       "40                           The Jackbox Party Pack 6   \n",
       "41                                         Everything   \n",
       "42                                      Bee Simulator   \n",
       "43                              Batman™ Arkham Knight   \n",
       "44                    LEGO® Batman™ 2 DC Super Heroes   \n",
       "45                                               Yaga   \n",
       "46                       Death Stranding Pre-Purchase   \n",
       "47                                      Cardpocalypse   \n",
       "48                     No Straight Roads Pre-Purchase   \n",
       "49                                         Bloodroots   \n",
       "50                                      Rogue Company   \n",
       "51                                       Superliminal   \n",
       "52                                          SuperMash   \n",
       "53                                             RUINER   \n",
       "54                            Surviving the Aftermath   \n",
       "55                     Alan Wake's American Nightmare   \n",
       "56                                   Airborne Kingdom   \n",
       "57                                      The Messenger   \n",
       "58                       LEGO® Batman™: The Videogame   \n",
       "59                      LEGO® Batman™ 3 Beyond Gotham   \n",
       "\n",
       "                         publisher developer   age            effective_date  \\\n",
       "0                 FJRD Interactive       NaN   NaN  2099-01-01T00:00:00.000Z   \n",
       "1            Annapurna Interactive       NaN   NaN  2019-02-14T16:00:00.000Z   \n",
       "2                      Deep Silver       NaN  18.0  2019-09-24T10:29:00.000Z   \n",
       "3                      Deep Silver       NaN  18.0  2019-05-13T15:00:00.000Z   \n",
       "4                          Ubisoft       NaN   NaN  2019-12-04T11:00:00.000Z   \n",
       "5                          Ubisoft       NaN   NaN  2019-11-07T16:00:00.000Z   \n",
       "6                         Techland       NaN   NaN  2019-12-02T16:00:00.000Z   \n",
       "7                         Techland       NaN   NaN  2019-11-13T18:00:00.000Z   \n",
       "8                         Techland       NaN  18.0  2019-12-20T16:00:00.000Z   \n",
       "9                 Frictional Games       NaN  18.0  2019-10-31T15:00:00.000Z   \n",
       "10                Frictional Games       NaN   NaN  2099-01-01T00:00:00.000Z   \n",
       "11                Frictional Games       NaN   NaN  2019-10-11T00:00:00.000Z   \n",
       "12                Frictional Games       NaN  18.0  2020-02-07T00:00:00.000Z   \n",
       "13                Frictional Games       NaN  18.0  2020-02-07T16:00:00.000Z   \n",
       "14                Frictional Games       NaN   NaN  2019-09-05T10:55:00.000Z   \n",
       "15                Frictional Games       NaN  18.0  2019-11-27T16:00:00.000Z   \n",
       "16                Frictional Games       NaN  18.0  2019-10-22T15:00:00.000Z   \n",
       "17                Frictional Games       NaN  18.0  2019-06-12T16:00:00.000Z   \n",
       "18                          Funcom       NaN  15.0  2019-08-14T00:00:00.000Z   \n",
       "19                          Funcom       NaN  18.0  2020-02-04T16:00:00.000Z   \n",
       "20                   Curve Digital       NaN   NaN  2019-10-09T13:00:00.000Z   \n",
       "21                   Curve Digital       NaN  18.0  2020-02-18T16:00:00.000Z   \n",
       "22          Balancing Monkey Games       NaN   NaN  2020-05-07T14:00:00.000Z   \n",
       "23          Balancing Monkey Games       NaN   NaN  2019-08-23T15:00:00.000Z   \n",
       "24          Balancing Monkey Games       NaN   NaN  2019-09-20T00:00:00.000Z   \n",
       "25          Balancing Monkey Games       NaN   NaN  2099-01-01T00:00:00.000Z   \n",
       "26          Balancing Monkey Games       NaN  18.0  2020-02-07T00:00:00.000Z   \n",
       "27          Balancing Monkey Games       NaN  18.0  2019-12-20T16:00:00.000Z   \n",
       "28                 Electronic Arts       NaN   NaN  2019-11-14T05:00:00.000Z   \n",
       "29                 Electronic Arts       NaN  18.0  2019-08-19T00:00:00.000Z   \n",
       "30                 Electronic Arts       NaN  18.0  2019-08-29T15:00:00.000Z   \n",
       "31                 Big Blue Bubble       NaN   NaN  2019-01-01T01:00:00.000Z   \n",
       "32                           Bossa       NaN   NaN  2099-01-01T00:00:00.000Z   \n",
       "33               Timberline Studio       NaN   NaN  2099-01-01T00:00:00.000Z   \n",
       "34                    Athlon Games       NaN   NaN  2019-12-16T09:00:00.000Z   \n",
       "35                       505 Games       NaN   NaN  2019-09-04T00:00:00.000Z   \n",
       "36                       505 Games       NaN   NaN  2020-01-16T18:00:00.000Z   \n",
       "37  Sony Interactive Entertainment       NaN   NaN  2019-10-29T00:00:00.000Z   \n",
       "38           Annapurna Interactive       NaN   NaN  2019-12-16T11:00:00.000Z   \n",
       "39          Skybound Entertainment       NaN   NaN  2019-09-06T00:00:00.000Z   \n",
       "40                   Jackbox Games       NaN   NaN  2019-10-17T15:00:00.000Z   \n",
       "41                   Jackbox Games       NaN   NaN  2019-09-20T00:00:00.000Z   \n",
       "42              Bigben Interactive       NaN   NaN  2019-11-13T18:00:00.000Z   \n",
       "43                    Warner Bros.       NaN  18.0  2019-09-26T15:00:00.000Z   \n",
       "44                    Warner Bros.       NaN   NaN  2019-09-26T15:00:00.000Z   \n",
       "45                     Versus Evil       NaN  18.0  2019-11-01T00:00:00.000Z   \n",
       "46                505 Games S.r.l.       NaN  18.0  2019-11-01T10:00:00.000Z   \n",
       "47                     Versus Evil       NaN   NaN  2019-09-13T06:00:00.000Z   \n",
       "48               Sold-Out Software       NaN   NaN  2019-08-28T14:00:00.000Z   \n",
       "49               Sold-Out Software       NaN   NaN  2020-02-27T16:00:00.000Z   \n",
       "50               Sold-Out Software       NaN   NaN  2099-01-01T00:00:00.000Z   \n",
       "51               Sold-Out Software       NaN   NaN  2019-11-01T00:00:00.000Z   \n",
       "52               Sold-Out Software       NaN   NaN  2019-12-09T16:00:00.000Z   \n",
       "53                Devolver Digital       NaN  18.0  2019-11-07T16:00:00.000Z   \n",
       "54          Paradox Interactive AB       NaN   NaN  2019-10-18T00:00:00.000Z   \n",
       "55          Paradox Interactive AB       NaN  15.0  2019-10-17T15:00:00.000Z   \n",
       "56          Paradox Interactive AB       NaN   NaN  2099-01-01T00:00:00.000Z   \n",
       "57                Devolver Digital       NaN   NaN  2019-11-14T16:00:00.000Z   \n",
       "58                    Warner Bros.       NaN   NaN  2019-09-26T15:00:00.000Z   \n",
       "59                    Warner Bros.       NaN   NaN  2019-09-26T15:00:00.000Z   \n",
       "\n",
       "            platforms   price  \n",
       "0             Windows       0  \n",
       "1             Windows   $6.99  \n",
       "2             Windows  $19.99  \n",
       "3             Windows  $19.99  \n",
       "4             Windows  $59.99  \n",
       "5             Windows  $11.99  \n",
       "6             Windows  $19.99  \n",
       "7                 NaN       0  \n",
       "8             Windows  $49.99  \n",
       "9         Windows,Mac  $29.99  \n",
       "10            Windows       0  \n",
       "11            Windows  $19.99  \n",
       "12                NaN  $59.99  \n",
       "13                NaN  $39.99  \n",
       "14            Windows  $19.99  \n",
       "15                NaN  $59.99  \n",
       "16                NaN  $39.99  \n",
       "17            Windows  $59.99  \n",
       "18            Windows  $34.99  \n",
       "19            Windows  $29.99  \n",
       "20            Windows  $24.99  \n",
       "21            Windows  $14.99  \n",
       "22            Windows  $19.99  \n",
       "23      Windows,Win32       0  \n",
       "24        Windows,Mac  $19.99  \n",
       "25            Windows       0  \n",
       "26                NaN  $19.99  \n",
       "27            Windows  $29.99  \n",
       "28                NaN  $59.99  \n",
       "29            Windows  $19.99  \n",
       "30            Windows  $19.99  \n",
       "31            Windows  $24.99  \n",
       "32            Windows       0  \n",
       "33                NaN       0  \n",
       "34            Windows  $29.99  \n",
       "35            Windows  $19.99  \n",
       "36      Windows,Win32       0  \n",
       "37            Windows  $19.99  \n",
       "38            Windows  $19.99  \n",
       "39            Windows  $49.99  \n",
       "40        Windows,Mac  $29.99  \n",
       "41            Windows  $14.99  \n",
       "42            Windows  $39.99  \n",
       "43            Windows  $19.99  \n",
       "44            Windows  $19.99  \n",
       "45            Windows  $24.99  \n",
       "46            Windows  $59.99  \n",
       "47            Windows  $24.99  \n",
       "48            Windows  $39.99  \n",
       "49            Windows  $19.99  \n",
       "50            Windows       0  \n",
       "51            Windows  $19.99  \n",
       "52            Windows  $19.99  \n",
       "53            Windows  $19.99  \n",
       "54            Windows  $19.99  \n",
       "55            Windows   $8.99  \n",
       "56  Windows,Win32,Mac       0  \n",
       "57            Windows  $19.99  \n",
       "58            Windows  $19.99  \n",
       "59            Windows  $19.99  "
      ]
     },
     "execution_count": 2,
     "metadata": {},
     "output_type": "execute_result"
    }
   ],
   "source": [
    "gameSales = pd.read_csv('data/epic_store_games.csv', sep=',', engine='python')\n",
    "gameSales.head(60)"
   ]
  },
  {
   "cell_type": "markdown",
   "metadata": {},
   "source": [
    "#### The below code adds a blue border around the dataframe whenever it is called. It also gets rid of seperators."
   ]
  },
  {
   "cell_type": "code",
   "execution_count": 3,
   "metadata": {
    "scrolled": true
   },
   "outputs": [
    {
     "data": {
      "text/html": [
       "<style type=\"text/css\">\n",
       "table.dataframe td, table.dataframe th {\n",
       "    border: 2px  blue solid !important;\n",
       "  color: black !important;\n",
       "}\n",
       "</style>\n"
      ],
      "text/plain": [
       "<IPython.core.display.HTML object>"
      ]
     },
     "metadata": {},
     "output_type": "display_data"
    }
   ],
   "source": [
    "%%HTML\n",
    "<style type=\"text/css\">\n",
    "table.dataframe td, table.dataframe th {\n",
    "    border: 2px  blue solid !important;\n",
    "  color: black !important;\n",
    "}\n",
    "</style>"
   ]
  },
  {
   "cell_type": "markdown",
   "metadata": {},
   "source": [
    "   "
   ]
  },
  {
   "cell_type": "markdown",
   "metadata": {},
   "source": [
    "How many rows and columns do we have?"
   ]
  },
  {
   "cell_type": "code",
   "execution_count": 4,
   "metadata": {},
   "outputs": [
    {
     "name": "stdout",
     "output_type": "stream",
     "text": [
      "Number of Rows is equal to 258\n",
      "Number of columns is equal to 8\n"
     ]
    }
   ],
   "source": [
    "print('Number of Rows is equal to', gameSales.shape[0])\n",
    "print('Number of columns is equal to', gameSales.shape[1])"
   ]
  },
  {
   "cell_type": "markdown",
   "metadata": {},
   "source": [
    "    "
   ]
  },
  {
   "cell_type": "markdown",
   "metadata": {},
   "source": [
    "Let's get the name of each column."
   ]
  },
  {
   "cell_type": "code",
   "execution_count": 5,
   "metadata": {},
   "outputs": [
    {
     "data": {
      "text/plain": [
       "Index(['title', 'description', 'publisher', 'developer', 'age',\n",
       "       'effective_date', 'platforms', 'price'],\n",
       "      dtype='object')"
      ]
     },
     "execution_count": 5,
     "metadata": {},
     "output_type": "execute_result"
    }
   ],
   "source": [
    "gameSales.columns"
   ]
  },
  {
   "cell_type": "markdown",
   "metadata": {},
   "source": [
    "   "
   ]
  },
  {
   "cell_type": "markdown",
   "metadata": {
    "scrolled": false
   },
   "source": [
    "## Data Dictionary\n",
    "\n",
    "- **title:    Title of Game**\n",
    "\n",
    "- **description:    The Description of Game**\n",
    "\n",
    "- **publisher:    Name of Company Who Published Game**\n",
    "\n",
    "- **developer:    Name of Company Who Developed Game**\n",
    "\n",
    "- **age:    The Recommended Age In Which Game is Suitable to be Played**\n",
    "\n",
    "- **effective_date:    The Date In Which Game Was Listed on the Online Store**\n",
    "\n",
    "- **platforms:    The Platform on Which The Game Can Be Played**\n",
    "\n",
    "- **price:    The Price of the Game, in USD**"
   ]
  },
  {
   "cell_type": "markdown",
   "metadata": {},
   "source": [
    "   "
   ]
  },
  {
   "cell_type": "markdown",
   "metadata": {},
   "source": [
    "   "
   ]
  },
  {
   "cell_type": "markdown",
   "metadata": {},
   "source": [
    "# Data Munging Time!"
   ]
  },
  {
   "cell_type": "markdown",
   "metadata": {},
   "source": [
    "Let's use describe to get statistics of our data."
   ]
  },
  {
   "cell_type": "code",
   "execution_count": 6,
   "metadata": {},
   "outputs": [
    {
     "data": {
      "text/html": [
       "<div>\n",
       "<style scoped>\n",
       "    .dataframe tbody tr th:only-of-type {\n",
       "        vertical-align: middle;\n",
       "    }\n",
       "\n",
       "    .dataframe tbody tr th {\n",
       "        vertical-align: top;\n",
       "    }\n",
       "\n",
       "    .dataframe thead th {\n",
       "        text-align: right;\n",
       "    }\n",
       "</style>\n",
       "<table border=\"1\" class=\"dataframe\">\n",
       "  <thead>\n",
       "    <tr style=\"text-align: right;\">\n",
       "      <th></th>\n",
       "      <th>title</th>\n",
       "      <th>description</th>\n",
       "      <th>publisher</th>\n",
       "      <th>developer</th>\n",
       "      <th>age</th>\n",
       "      <th>effective_date</th>\n",
       "      <th>platforms</th>\n",
       "      <th>price</th>\n",
       "    </tr>\n",
       "  </thead>\n",
       "  <tbody>\n",
       "    <tr>\n",
       "      <td>count</td>\n",
       "      <td>258</td>\n",
       "      <td>258</td>\n",
       "      <td>258</td>\n",
       "      <td>1</td>\n",
       "      <td>88.000000</td>\n",
       "      <td>258</td>\n",
       "      <td>242</td>\n",
       "      <td>258</td>\n",
       "    </tr>\n",
       "    <tr>\n",
       "      <td>unique</td>\n",
       "      <td>258</td>\n",
       "      <td>258</td>\n",
       "      <td>84</td>\n",
       "      <td>1</td>\n",
       "      <td>NaN</td>\n",
       "      <td>191</td>\n",
       "      <td>11</td>\n",
       "      <td>20</td>\n",
       "    </tr>\n",
       "    <tr>\n",
       "      <td>top</td>\n",
       "      <td>Shakedown Hawaii</td>\n",
       "      <td>Shakedown Hawaii</td>\n",
       "      <td>Annapurna Interactive</td>\n",
       "      <td>Avalanche Studios</td>\n",
       "      <td>NaN</td>\n",
       "      <td>2099-01-01T00:00:00.000Z</td>\n",
       "      <td>Windows</td>\n",
       "      <td>$19.99</td>\n",
       "    </tr>\n",
       "    <tr>\n",
       "      <td>freq</td>\n",
       "      <td>1</td>\n",
       "      <td>1</td>\n",
       "      <td>19</td>\n",
       "      <td>1</td>\n",
       "      <td>NaN</td>\n",
       "      <td>17</td>\n",
       "      <td>172</td>\n",
       "      <td>63</td>\n",
       "    </tr>\n",
       "    <tr>\n",
       "      <td>mean</td>\n",
       "      <td>NaN</td>\n",
       "      <td>NaN</td>\n",
       "      <td>NaN</td>\n",
       "      <td>NaN</td>\n",
       "      <td>16.636364</td>\n",
       "      <td>NaN</td>\n",
       "      <td>NaN</td>\n",
       "      <td>NaN</td>\n",
       "    </tr>\n",
       "    <tr>\n",
       "      <td>std</td>\n",
       "      <td>NaN</td>\n",
       "      <td>NaN</td>\n",
       "      <td>NaN</td>\n",
       "      <td>NaN</td>\n",
       "      <td>3.308581</td>\n",
       "      <td>NaN</td>\n",
       "      <td>NaN</td>\n",
       "      <td>NaN</td>\n",
       "    </tr>\n",
       "    <tr>\n",
       "      <td>min</td>\n",
       "      <td>NaN</td>\n",
       "      <td>NaN</td>\n",
       "      <td>NaN</td>\n",
       "      <td>NaN</td>\n",
       "      <td>0.000000</td>\n",
       "      <td>NaN</td>\n",
       "      <td>NaN</td>\n",
       "      <td>NaN</td>\n",
       "    </tr>\n",
       "    <tr>\n",
       "      <td>25%</td>\n",
       "      <td>NaN</td>\n",
       "      <td>NaN</td>\n",
       "      <td>NaN</td>\n",
       "      <td>NaN</td>\n",
       "      <td>18.000000</td>\n",
       "      <td>NaN</td>\n",
       "      <td>NaN</td>\n",
       "      <td>NaN</td>\n",
       "    </tr>\n",
       "    <tr>\n",
       "      <td>50%</td>\n",
       "      <td>NaN</td>\n",
       "      <td>NaN</td>\n",
       "      <td>NaN</td>\n",
       "      <td>NaN</td>\n",
       "      <td>18.000000</td>\n",
       "      <td>NaN</td>\n",
       "      <td>NaN</td>\n",
       "      <td>NaN</td>\n",
       "    </tr>\n",
       "    <tr>\n",
       "      <td>75%</td>\n",
       "      <td>NaN</td>\n",
       "      <td>NaN</td>\n",
       "      <td>NaN</td>\n",
       "      <td>NaN</td>\n",
       "      <td>18.000000</td>\n",
       "      <td>NaN</td>\n",
       "      <td>NaN</td>\n",
       "      <td>NaN</td>\n",
       "    </tr>\n",
       "    <tr>\n",
       "      <td>max</td>\n",
       "      <td>NaN</td>\n",
       "      <td>NaN</td>\n",
       "      <td>NaN</td>\n",
       "      <td>NaN</td>\n",
       "      <td>18.000000</td>\n",
       "      <td>NaN</td>\n",
       "      <td>NaN</td>\n",
       "      <td>NaN</td>\n",
       "    </tr>\n",
       "  </tbody>\n",
       "</table>\n",
       "</div>"
      ],
      "text/plain": [
       "                   title       description              publisher  \\\n",
       "count                258               258                    258   \n",
       "unique               258               258                     84   \n",
       "top     Shakedown Hawaii  Shakedown Hawaii  Annapurna Interactive   \n",
       "freq                   1                 1                     19   \n",
       "mean                 NaN               NaN                    NaN   \n",
       "std                  NaN               NaN                    NaN   \n",
       "min                  NaN               NaN                    NaN   \n",
       "25%                  NaN               NaN                    NaN   \n",
       "50%                  NaN               NaN                    NaN   \n",
       "75%                  NaN               NaN                    NaN   \n",
       "max                  NaN               NaN                    NaN   \n",
       "\n",
       "                developer        age            effective_date platforms  \\\n",
       "count                   1  88.000000                       258       242   \n",
       "unique                  1        NaN                       191        11   \n",
       "top     Avalanche Studios        NaN  2099-01-01T00:00:00.000Z   Windows   \n",
       "freq                    1        NaN                        17       172   \n",
       "mean                  NaN  16.636364                       NaN       NaN   \n",
       "std                   NaN   3.308581                       NaN       NaN   \n",
       "min                   NaN   0.000000                       NaN       NaN   \n",
       "25%                   NaN  18.000000                       NaN       NaN   \n",
       "50%                   NaN  18.000000                       NaN       NaN   \n",
       "75%                   NaN  18.000000                       NaN       NaN   \n",
       "max                   NaN  18.000000                       NaN       NaN   \n",
       "\n",
       "         price  \n",
       "count      258  \n",
       "unique      20  \n",
       "top     $19.99  \n",
       "freq        63  \n",
       "mean       NaN  \n",
       "std        NaN  \n",
       "min        NaN  \n",
       "25%        NaN  \n",
       "50%        NaN  \n",
       "75%        NaN  \n",
       "max        NaN  "
      ]
     },
     "execution_count": 6,
     "metadata": {},
     "output_type": "execute_result"
    }
   ],
   "source": [
    "gameSales.describe(include='all')"
   ]
  },
  {
   "cell_type": "markdown",
   "metadata": {},
   "source": [
    "It looks like we are getting \"NaN\" values for data, even though we should be getting actual values. Let's check the datatypes of each column."
   ]
  },
  {
   "cell_type": "markdown",
   "metadata": {},
   "source": [
    "   "
   ]
  },
  {
   "cell_type": "code",
   "execution_count": 7,
   "metadata": {},
   "outputs": [
    {
     "data": {
      "text/plain": [
       "title              object\n",
       "description        object\n",
       "publisher          object\n",
       "developer          object\n",
       "age               float64\n",
       "effective_date     object\n",
       "platforms          object\n",
       "price              object\n",
       "dtype: object"
      ]
     },
     "execution_count": 7,
     "metadata": {},
     "output_type": "execute_result"
    }
   ],
   "source": [
    "gameSales.dtypes"
   ]
  },
  {
   "cell_type": "markdown",
   "metadata": {},
   "source": [
    "   "
   ]
  },
  {
   "cell_type": "markdown",
   "metadata": {},
   "source": [
    "Let's change the datatype of the 'effective_date' column."
   ]
  },
  {
   "cell_type": "code",
   "execution_count": 8,
   "metadata": {},
   "outputs": [
    {
     "data": {
      "text/plain": [
       "title                     object\n",
       "description               object\n",
       "publisher                 object\n",
       "developer                 object\n",
       "age                      float64\n",
       "effective_date    datetime64[ns]\n",
       "platforms                 object\n",
       "price                     object\n",
       "dtype: object"
      ]
     },
     "execution_count": 8,
     "metadata": {},
     "output_type": "execute_result"
    }
   ],
   "source": [
    "gameSales['effective_date'] = gameSales['effective_date'].astype('datetime64')\n",
    "gameSales.dtypes"
   ]
  },
  {
   "cell_type": "markdown",
   "metadata": {},
   "source": [
    "  "
   ]
  },
  {
   "cell_type": "markdown",
   "metadata": {},
   "source": [
    "Hmm, let's get rid of the dollar sign symbol and change the data in the price column to a float datatype. "
   ]
  },
  {
   "cell_type": "code",
   "execution_count": 9,
   "metadata": {},
   "outputs": [],
   "source": [
    "gameSales['price'] = gameSales.price.str.replace('$', '').astype(float)"
   ]
  },
  {
   "cell_type": "markdown",
   "metadata": {},
   "source": [
    "   "
   ]
  },
  {
   "cell_type": "markdown",
   "metadata": {},
   "source": [
    "Let's see if it worked."
   ]
  },
  {
   "cell_type": "code",
   "execution_count": 10,
   "metadata": {},
   "outputs": [
    {
     "data": {
      "text/plain": [
       "title                     object\n",
       "description               object\n",
       "publisher                 object\n",
       "developer                 object\n",
       "age                      float64\n",
       "effective_date    datetime64[ns]\n",
       "platforms                 object\n",
       "price                    float64\n",
       "dtype: object"
      ]
     },
     "execution_count": 10,
     "metadata": {},
     "output_type": "execute_result"
    }
   ],
   "source": [
    "gameSales.dtypes"
   ]
  },
  {
   "cell_type": "markdown",
   "metadata": {},
   "source": [
    "   "
   ]
  },
  {
   "cell_type": "markdown",
   "metadata": {},
   "source": [
    "Now, if we look at the statistics of the data..."
   ]
  },
  {
   "cell_type": "code",
   "execution_count": 11,
   "metadata": {},
   "outputs": [
    {
     "data": {
      "text/html": [
       "<div>\n",
       "<style scoped>\n",
       "    .dataframe tbody tr th:only-of-type {\n",
       "        vertical-align: middle;\n",
       "    }\n",
       "\n",
       "    .dataframe tbody tr th {\n",
       "        vertical-align: top;\n",
       "    }\n",
       "\n",
       "    .dataframe thead th {\n",
       "        text-align: right;\n",
       "    }\n",
       "</style>\n",
       "<table border=\"1\" class=\"dataframe\">\n",
       "  <thead>\n",
       "    <tr style=\"text-align: right;\">\n",
       "      <th></th>\n",
       "      <th>title</th>\n",
       "      <th>description</th>\n",
       "      <th>publisher</th>\n",
       "      <th>developer</th>\n",
       "      <th>age</th>\n",
       "      <th>effective_date</th>\n",
       "      <th>platforms</th>\n",
       "      <th>price</th>\n",
       "    </tr>\n",
       "  </thead>\n",
       "  <tbody>\n",
       "    <tr>\n",
       "      <td>count</td>\n",
       "      <td>258</td>\n",
       "      <td>258</td>\n",
       "      <td>258</td>\n",
       "      <td>1</td>\n",
       "      <td>88.000000</td>\n",
       "      <td>258</td>\n",
       "      <td>242</td>\n",
       "      <td>258.000000</td>\n",
       "    </tr>\n",
       "    <tr>\n",
       "      <td>unique</td>\n",
       "      <td>258</td>\n",
       "      <td>258</td>\n",
       "      <td>84</td>\n",
       "      <td>1</td>\n",
       "      <td>NaN</td>\n",
       "      <td>191</td>\n",
       "      <td>11</td>\n",
       "      <td>NaN</td>\n",
       "    </tr>\n",
       "    <tr>\n",
       "      <td>top</td>\n",
       "      <td>Shakedown Hawaii</td>\n",
       "      <td>Shakedown Hawaii</td>\n",
       "      <td>Annapurna Interactive</td>\n",
       "      <td>Avalanche Studios</td>\n",
       "      <td>NaN</td>\n",
       "      <td>2099-01-01 00:00:00</td>\n",
       "      <td>Windows</td>\n",
       "      <td>NaN</td>\n",
       "    </tr>\n",
       "    <tr>\n",
       "      <td>freq</td>\n",
       "      <td>1</td>\n",
       "      <td>1</td>\n",
       "      <td>19</td>\n",
       "      <td>1</td>\n",
       "      <td>NaN</td>\n",
       "      <td>17</td>\n",
       "      <td>172</td>\n",
       "      <td>NaN</td>\n",
       "    </tr>\n",
       "    <tr>\n",
       "      <td>first</td>\n",
       "      <td>NaN</td>\n",
       "      <td>NaN</td>\n",
       "      <td>NaN</td>\n",
       "      <td>NaN</td>\n",
       "      <td>NaN</td>\n",
       "      <td>2015-07-30 00:00:00</td>\n",
       "      <td>NaN</td>\n",
       "      <td>NaN</td>\n",
       "    </tr>\n",
       "    <tr>\n",
       "      <td>last</td>\n",
       "      <td>NaN</td>\n",
       "      <td>NaN</td>\n",
       "      <td>NaN</td>\n",
       "      <td>NaN</td>\n",
       "      <td>NaN</td>\n",
       "      <td>2099-11-29 20:22:00</td>\n",
       "      <td>NaN</td>\n",
       "      <td>NaN</td>\n",
       "    </tr>\n",
       "    <tr>\n",
       "      <td>mean</td>\n",
       "      <td>NaN</td>\n",
       "      <td>NaN</td>\n",
       "      <td>NaN</td>\n",
       "      <td>NaN</td>\n",
       "      <td>16.636364</td>\n",
       "      <td>NaN</td>\n",
       "      <td>NaN</td>\n",
       "      <td>24.332016</td>\n",
       "    </tr>\n",
       "    <tr>\n",
       "      <td>std</td>\n",
       "      <td>NaN</td>\n",
       "      <td>NaN</td>\n",
       "      <td>NaN</td>\n",
       "      <td>NaN</td>\n",
       "      <td>3.308581</td>\n",
       "      <td>NaN</td>\n",
       "      <td>NaN</td>\n",
       "      <td>15.788227</td>\n",
       "    </tr>\n",
       "    <tr>\n",
       "      <td>min</td>\n",
       "      <td>NaN</td>\n",
       "      <td>NaN</td>\n",
       "      <td>NaN</td>\n",
       "      <td>NaN</td>\n",
       "      <td>0.000000</td>\n",
       "      <td>NaN</td>\n",
       "      <td>NaN</td>\n",
       "      <td>0.000000</td>\n",
       "    </tr>\n",
       "    <tr>\n",
       "      <td>25%</td>\n",
       "      <td>NaN</td>\n",
       "      <td>NaN</td>\n",
       "      <td>NaN</td>\n",
       "      <td>NaN</td>\n",
       "      <td>18.000000</td>\n",
       "      <td>NaN</td>\n",
       "      <td>NaN</td>\n",
       "      <td>14.990000</td>\n",
       "    </tr>\n",
       "    <tr>\n",
       "      <td>50%</td>\n",
       "      <td>NaN</td>\n",
       "      <td>NaN</td>\n",
       "      <td>NaN</td>\n",
       "      <td>NaN</td>\n",
       "      <td>18.000000</td>\n",
       "      <td>NaN</td>\n",
       "      <td>NaN</td>\n",
       "      <td>19.990000</td>\n",
       "    </tr>\n",
       "    <tr>\n",
       "      <td>75%</td>\n",
       "      <td>NaN</td>\n",
       "      <td>NaN</td>\n",
       "      <td>NaN</td>\n",
       "      <td>NaN</td>\n",
       "      <td>18.000000</td>\n",
       "      <td>NaN</td>\n",
       "      <td>NaN</td>\n",
       "      <td>29.990000</td>\n",
       "    </tr>\n",
       "    <tr>\n",
       "      <td>max</td>\n",
       "      <td>NaN</td>\n",
       "      <td>NaN</td>\n",
       "      <td>NaN</td>\n",
       "      <td>NaN</td>\n",
       "      <td>18.000000</td>\n",
       "      <td>NaN</td>\n",
       "      <td>NaN</td>\n",
       "      <td>59.990000</td>\n",
       "    </tr>\n",
       "  </tbody>\n",
       "</table>\n",
       "</div>"
      ],
      "text/plain": [
       "                   title       description              publisher  \\\n",
       "count                258               258                    258   \n",
       "unique               258               258                     84   \n",
       "top     Shakedown Hawaii  Shakedown Hawaii  Annapurna Interactive   \n",
       "freq                   1                 1                     19   \n",
       "first                NaN               NaN                    NaN   \n",
       "last                 NaN               NaN                    NaN   \n",
       "mean                 NaN               NaN                    NaN   \n",
       "std                  NaN               NaN                    NaN   \n",
       "min                  NaN               NaN                    NaN   \n",
       "25%                  NaN               NaN                    NaN   \n",
       "50%                  NaN               NaN                    NaN   \n",
       "75%                  NaN               NaN                    NaN   \n",
       "max                  NaN               NaN                    NaN   \n",
       "\n",
       "                developer        age       effective_date platforms  \\\n",
       "count                   1  88.000000                  258       242   \n",
       "unique                  1        NaN                  191        11   \n",
       "top     Avalanche Studios        NaN  2099-01-01 00:00:00   Windows   \n",
       "freq                    1        NaN                   17       172   \n",
       "first                 NaN        NaN  2015-07-30 00:00:00       NaN   \n",
       "last                  NaN        NaN  2099-11-29 20:22:00       NaN   \n",
       "mean                  NaN  16.636364                  NaN       NaN   \n",
       "std                   NaN   3.308581                  NaN       NaN   \n",
       "min                   NaN   0.000000                  NaN       NaN   \n",
       "25%                   NaN  18.000000                  NaN       NaN   \n",
       "50%                   NaN  18.000000                  NaN       NaN   \n",
       "75%                   NaN  18.000000                  NaN       NaN   \n",
       "max                   NaN  18.000000                  NaN       NaN   \n",
       "\n",
       "             price  \n",
       "count   258.000000  \n",
       "unique         NaN  \n",
       "top            NaN  \n",
       "freq           NaN  \n",
       "first          NaN  \n",
       "last           NaN  \n",
       "mean     24.332016  \n",
       "std      15.788227  \n",
       "min       0.000000  \n",
       "25%      14.990000  \n",
       "50%      19.990000  \n",
       "75%      29.990000  \n",
       "max      59.990000  "
      ]
     },
     "execution_count": 11,
     "metadata": {},
     "output_type": "execute_result"
    }
   ],
   "source": [
    "gameSales.describe(include='all')"
   ]
  },
  {
   "cell_type": "markdown",
   "metadata": {},
   "source": [
    "That's more like it!"
   ]
  },
  {
   "cell_type": "markdown",
   "metadata": {},
   "source": [
    "   "
   ]
  },
  {
   "cell_type": "code",
   "execution_count": 12,
   "metadata": {},
   "outputs": [
    {
     "name": "stdout",
     "output_type": "stream",
     "text": [
      "<class 'pandas.core.frame.DataFrame'>\n",
      "RangeIndex: 258 entries, 0 to 257\n",
      "Data columns (total 8 columns):\n",
      "title             258 non-null object\n",
      "description       258 non-null object\n",
      "publisher         258 non-null object\n",
      "developer         1 non-null object\n",
      "age               88 non-null float64\n",
      "effective_date    258 non-null datetime64[ns]\n",
      "platforms         242 non-null object\n",
      "price             258 non-null float64\n",
      "dtypes: datetime64[ns](1), float64(2), object(5)\n",
      "memory usage: 16.2+ KB\n"
     ]
    }
   ],
   "source": [
    "gameSales.info()"
   ]
  },
  {
   "cell_type": "markdown",
   "metadata": {},
   "source": [
    "As you can see above, there are several empty cells in the \"age\" column, resulting in NaNs-- 170, to be exact. Let's replace them with a zero placeholder."
   ]
  },
  {
   "cell_type": "code",
   "execution_count": 13,
   "metadata": {
    "scrolled": false
   },
   "outputs": [
    {
     "name": "stdout",
     "output_type": "stream",
     "text": [
      "<class 'pandas.core.frame.DataFrame'>\n",
      "RangeIndex: 258 entries, 0 to 257\n",
      "Data columns (total 8 columns):\n",
      "title             258 non-null object\n",
      "description       258 non-null object\n",
      "publisher         258 non-null object\n",
      "developer         1 non-null object\n",
      "age               258 non-null float64\n",
      "effective_date    258 non-null datetime64[ns]\n",
      "platforms         242 non-null object\n",
      "price             258 non-null float64\n",
      "dtypes: datetime64[ns](1), float64(2), object(5)\n",
      "memory usage: 16.2+ KB\n"
     ]
    }
   ],
   "source": [
    "gameSales['age'] = gameSales.age.fillna(0)\n",
    "gameSales.info()"
   ]
  },
  {
   "cell_type": "markdown",
   "metadata": {},
   "source": [
    "   "
   ]
  },
  {
   "cell_type": "markdown",
   "metadata": {},
   "source": [
    "Now, let's replace the 16 NaNs in the \"platforms\" column with the words 'platform-unknown'."
   ]
  },
  {
   "cell_type": "code",
   "execution_count": 14,
   "metadata": {
    "scrolled": true
   },
   "outputs": [
    {
     "name": "stdout",
     "output_type": "stream",
     "text": [
      "<class 'pandas.core.frame.DataFrame'>\n",
      "RangeIndex: 258 entries, 0 to 257\n",
      "Data columns (total 8 columns):\n",
      "title             258 non-null object\n",
      "description       258 non-null object\n",
      "publisher         258 non-null object\n",
      "developer         1 non-null object\n",
      "age               258 non-null float64\n",
      "effective_date    258 non-null datetime64[ns]\n",
      "platforms         258 non-null object\n",
      "price             258 non-null float64\n",
      "dtypes: datetime64[ns](1), float64(2), object(5)\n",
      "memory usage: 16.2+ KB\n"
     ]
    }
   ],
   "source": [
    "gameSales['platforms'] = gameSales.platforms.fillna('platform-unknown')\n",
    "gameSales.info()"
   ]
  },
  {
   "cell_type": "markdown",
   "metadata": {},
   "source": [
    "   "
   ]
  },
  {
   "cell_type": "markdown",
   "metadata": {},
   "source": [
    "Some of the data in the 'platforms' column is displaying as \"true\". Let's see how many instances of this we have, and replace those instances with 'platform-unknown'."
   ]
  },
  {
   "cell_type": "code",
   "execution_count": 15,
   "metadata": {},
   "outputs": [
    {
     "data": {
      "text/html": [
       "<div>\n",
       "<style scoped>\n",
       "    .dataframe tbody tr th:only-of-type {\n",
       "        vertical-align: middle;\n",
       "    }\n",
       "\n",
       "    .dataframe tbody tr th {\n",
       "        vertical-align: top;\n",
       "    }\n",
       "\n",
       "    .dataframe thead th {\n",
       "        text-align: right;\n",
       "    }\n",
       "</style>\n",
       "<table border=\"1\" class=\"dataframe\">\n",
       "  <thead>\n",
       "    <tr style=\"text-align: right;\">\n",
       "      <th></th>\n",
       "      <th>title</th>\n",
       "      <th>description</th>\n",
       "      <th>publisher</th>\n",
       "      <th>developer</th>\n",
       "      <th>age</th>\n",
       "      <th>effective_date</th>\n",
       "      <th>platforms</th>\n",
       "      <th>price</th>\n",
       "    </tr>\n",
       "  </thead>\n",
       "  <tbody>\n",
       "    <tr>\n",
       "      <td>253</td>\n",
       "      <td>Battalion Dev Kit</td>\n",
       "      <td>Battalion Dev Kit</td>\n",
       "      <td>Annapurna Interactive</td>\n",
       "      <td>NaN</td>\n",
       "      <td>0.0</td>\n",
       "      <td>2018-07-06 12:12:00</td>\n",
       "      <td>true</td>\n",
       "      <td>0.0</td>\n",
       "    </tr>\n",
       "    <tr>\n",
       "      <td>254</td>\n",
       "      <td>Showmaker Dev Kit</td>\n",
       "      <td>Showmaker Dev Kit</td>\n",
       "      <td>Annapurna Interactive</td>\n",
       "      <td>NaN</td>\n",
       "      <td>0.0</td>\n",
       "      <td>2018-08-27 10:24:00</td>\n",
       "      <td>true</td>\n",
       "      <td>0.0</td>\n",
       "    </tr>\n",
       "    <tr>\n",
       "      <td>255</td>\n",
       "      <td>PixArk</td>\n",
       "      <td>PixArk</td>\n",
       "      <td>Annapurna Interactive</td>\n",
       "      <td>NaN</td>\n",
       "      <td>0.0</td>\n",
       "      <td>2018-06-25 13:28:00</td>\n",
       "      <td>true</td>\n",
       "      <td>0.0</td>\n",
       "    </tr>\n",
       "  </tbody>\n",
       "</table>\n",
       "</div>"
      ],
      "text/plain": [
       "                 title        description              publisher developer  \\\n",
       "253  Battalion Dev Kit  Battalion Dev Kit  Annapurna Interactive       NaN   \n",
       "254  Showmaker Dev Kit  Showmaker Dev Kit  Annapurna Interactive       NaN   \n",
       "255             PixArk             PixArk  Annapurna Interactive       NaN   \n",
       "\n",
       "     age      effective_date platforms  price  \n",
       "253  0.0 2018-07-06 12:12:00      true    0.0  \n",
       "254  0.0 2018-08-27 10:24:00      true    0.0  \n",
       "255  0.0 2018-06-25 13:28:00      true    0.0  "
      ]
     },
     "execution_count": 15,
     "metadata": {},
     "output_type": "execute_result"
    }
   ],
   "source": [
    "gameSales[gameSales['platforms'].str.contains('true')]"
   ]
  },
  {
   "cell_type": "code",
   "execution_count": 16,
   "metadata": {},
   "outputs": [
    {
     "data": {
      "text/html": [
       "<div>\n",
       "<style scoped>\n",
       "    .dataframe tbody tr th:only-of-type {\n",
       "        vertical-align: middle;\n",
       "    }\n",
       "\n",
       "    .dataframe tbody tr th {\n",
       "        vertical-align: top;\n",
       "    }\n",
       "\n",
       "    .dataframe thead th {\n",
       "        text-align: right;\n",
       "    }\n",
       "</style>\n",
       "<table border=\"1\" class=\"dataframe\">\n",
       "  <thead>\n",
       "    <tr style=\"text-align: right;\">\n",
       "      <th></th>\n",
       "      <th>title</th>\n",
       "      <th>description</th>\n",
       "      <th>publisher</th>\n",
       "      <th>developer</th>\n",
       "      <th>age</th>\n",
       "      <th>effective_date</th>\n",
       "      <th>platforms</th>\n",
       "      <th>price</th>\n",
       "    </tr>\n",
       "  </thead>\n",
       "  <tbody>\n",
       "    <tr>\n",
       "      <td>0</td>\n",
       "      <td>Among Trees</td>\n",
       "      <td>Among Trees</td>\n",
       "      <td>FJRD Interactive</td>\n",
       "      <td>NaN</td>\n",
       "      <td>0.0</td>\n",
       "      <td>2099-01-01 00:00:00</td>\n",
       "      <td>Windows</td>\n",
       "      <td>0.00</td>\n",
       "    </tr>\n",
       "    <tr>\n",
       "      <td>1</td>\n",
       "      <td>Flower</td>\n",
       "      <td>Flower</td>\n",
       "      <td>Annapurna Interactive</td>\n",
       "      <td>NaN</td>\n",
       "      <td>0.0</td>\n",
       "      <td>2019-02-14 16:00:00</td>\n",
       "      <td>Windows</td>\n",
       "      <td>6.99</td>\n",
       "    </tr>\n",
       "    <tr>\n",
       "      <td>2</td>\n",
       "      <td>Metro: 2033 Redux</td>\n",
       "      <td>Metro: 2033 Redux</td>\n",
       "      <td>Deep Silver</td>\n",
       "      <td>NaN</td>\n",
       "      <td>18.0</td>\n",
       "      <td>2019-09-24 10:29:00</td>\n",
       "      <td>Windows</td>\n",
       "      <td>19.99</td>\n",
       "    </tr>\n",
       "    <tr>\n",
       "      <td>3</td>\n",
       "      <td>Metro: Last Light Redux</td>\n",
       "      <td>Metro: Last Light Redux</td>\n",
       "      <td>Deep Silver</td>\n",
       "      <td>NaN</td>\n",
       "      <td>18.0</td>\n",
       "      <td>2019-05-13 15:00:00</td>\n",
       "      <td>Windows</td>\n",
       "      <td>19.99</td>\n",
       "    </tr>\n",
       "    <tr>\n",
       "      <td>4</td>\n",
       "      <td>The Crew 2</td>\n",
       "      <td>The Crew 2 Standard Edition</td>\n",
       "      <td>Ubisoft</td>\n",
       "      <td>NaN</td>\n",
       "      <td>0.0</td>\n",
       "      <td>2019-12-04 11:00:00</td>\n",
       "      <td>Windows</td>\n",
       "      <td>59.99</td>\n",
       "    </tr>\n",
       "    <tr>\n",
       "      <td>...</td>\n",
       "      <td>...</td>\n",
       "      <td>...</td>\n",
       "      <td>...</td>\n",
       "      <td>...</td>\n",
       "      <td>...</td>\n",
       "      <td>...</td>\n",
       "      <td>...</td>\n",
       "      <td>...</td>\n",
       "    </tr>\n",
       "    <tr>\n",
       "      <td>253</td>\n",
       "      <td>Battalion Dev Kit</td>\n",
       "      <td>Battalion Dev Kit</td>\n",
       "      <td>Annapurna Interactive</td>\n",
       "      <td>NaN</td>\n",
       "      <td>0.0</td>\n",
       "      <td>2018-07-06 12:12:00</td>\n",
       "      <td>platform-unknown</td>\n",
       "      <td>0.00</td>\n",
       "    </tr>\n",
       "    <tr>\n",
       "      <td>254</td>\n",
       "      <td>Showmaker Dev Kit</td>\n",
       "      <td>Showmaker Dev Kit</td>\n",
       "      <td>Annapurna Interactive</td>\n",
       "      <td>NaN</td>\n",
       "      <td>0.0</td>\n",
       "      <td>2018-08-27 10:24:00</td>\n",
       "      <td>platform-unknown</td>\n",
       "      <td>0.00</td>\n",
       "    </tr>\n",
       "    <tr>\n",
       "      <td>255</td>\n",
       "      <td>PixArk</td>\n",
       "      <td>PixArk</td>\n",
       "      <td>Annapurna Interactive</td>\n",
       "      <td>NaN</td>\n",
       "      <td>0.0</td>\n",
       "      <td>2018-06-25 13:28:00</td>\n",
       "      <td>platform-unknown</td>\n",
       "      <td>0.00</td>\n",
       "    </tr>\n",
       "    <tr>\n",
       "      <td>256</td>\n",
       "      <td>Shadow Complex Remastered</td>\n",
       "      <td>ShadowComplexRemastered</td>\n",
       "      <td>tinyBuild</td>\n",
       "      <td>NaN</td>\n",
       "      <td>0.0</td>\n",
       "      <td>2015-07-30 00:00:00</td>\n",
       "      <td>viper</td>\n",
       "      <td>14.99</td>\n",
       "    </tr>\n",
       "    <tr>\n",
       "      <td>257</td>\n",
       "      <td>Fortnite</td>\n",
       "      <td>Fortnite</td>\n",
       "      <td>tinyBuild</td>\n",
       "      <td>NaN</td>\n",
       "      <td>12.0</td>\n",
       "      <td>2017-09-25 13:00:00</td>\n",
       "      <td>Windows,Mac</td>\n",
       "      <td>0.00</td>\n",
       "    </tr>\n",
       "  </tbody>\n",
       "</table>\n",
       "<p>258 rows × 8 columns</p>\n",
       "</div>"
      ],
      "text/plain": [
       "                         title                  description  \\\n",
       "0                  Among Trees                  Among Trees   \n",
       "1                       Flower                       Flower   \n",
       "2            Metro: 2033 Redux            Metro: 2033 Redux   \n",
       "3      Metro: Last Light Redux      Metro: Last Light Redux   \n",
       "4                   The Crew 2  The Crew 2 Standard Edition   \n",
       "..                         ...                          ...   \n",
       "253          Battalion Dev Kit            Battalion Dev Kit   \n",
       "254          Showmaker Dev Kit            Showmaker Dev Kit   \n",
       "255                     PixArk                       PixArk   \n",
       "256  Shadow Complex Remastered      ShadowComplexRemastered   \n",
       "257                   Fortnite                     Fortnite   \n",
       "\n",
       "                 publisher developer   age      effective_date  \\\n",
       "0         FJRD Interactive       NaN   0.0 2099-01-01 00:00:00   \n",
       "1    Annapurna Interactive       NaN   0.0 2019-02-14 16:00:00   \n",
       "2              Deep Silver       NaN  18.0 2019-09-24 10:29:00   \n",
       "3              Deep Silver       NaN  18.0 2019-05-13 15:00:00   \n",
       "4                  Ubisoft       NaN   0.0 2019-12-04 11:00:00   \n",
       "..                     ...       ...   ...                 ...   \n",
       "253  Annapurna Interactive       NaN   0.0 2018-07-06 12:12:00   \n",
       "254  Annapurna Interactive       NaN   0.0 2018-08-27 10:24:00   \n",
       "255  Annapurna Interactive       NaN   0.0 2018-06-25 13:28:00   \n",
       "256              tinyBuild       NaN   0.0 2015-07-30 00:00:00   \n",
       "257              tinyBuild       NaN  12.0 2017-09-25 13:00:00   \n",
       "\n",
       "            platforms  price  \n",
       "0             Windows   0.00  \n",
       "1             Windows   6.99  \n",
       "2             Windows  19.99  \n",
       "3             Windows  19.99  \n",
       "4             Windows  59.99  \n",
       "..                ...    ...  \n",
       "253  platform-unknown   0.00  \n",
       "254  platform-unknown   0.00  \n",
       "255  platform-unknown   0.00  \n",
       "256             viper  14.99  \n",
       "257       Windows,Mac   0.00  \n",
       "\n",
       "[258 rows x 8 columns]"
      ]
     },
     "execution_count": 16,
     "metadata": {},
     "output_type": "execute_result"
    }
   ],
   "source": [
    "gameSales['platforms'] = gameSales.platforms.str.replace('true', 'platform-unknown')\n",
    "gameSales"
   ]
  },
  {
   "cell_type": "markdown",
   "metadata": {},
   "source": [
    "   "
   ]
  },
  {
   "cell_type": "markdown",
   "metadata": {},
   "source": [
    "Did it work? How many instances of 'true' do we have now?"
   ]
  },
  {
   "cell_type": "code",
   "execution_count": 17,
   "metadata": {},
   "outputs": [
    {
     "name": "stdout",
     "output_type": "stream",
     "text": [
      "Empty DataFrame\n",
      "Columns: [title, description, publisher, developer, age, effective_date, platforms, price]\n",
      "Index: []\n"
     ]
    }
   ],
   "source": [
    "print(gameSales[gameSales['platforms'].str.contains('true')])"
   ]
  },
  {
   "cell_type": "markdown",
   "metadata": {},
   "source": [
    "   "
   ]
  },
  {
   "cell_type": "markdown",
   "metadata": {},
   "source": [
    "Woo! The data is all clean now! Let's make some graphs!"
   ]
  },
  {
   "cell_type": "markdown",
   "metadata": {},
   "source": [
    "  "
   ]
  },
  {
   "cell_type": "markdown",
   "metadata": {},
   "source": [
    "# Total Price of Published Games in Last 3 Years"
   ]
  },
  {
   "cell_type": "markdown",
   "metadata": {},
   "source": [
    "    "
   ]
  },
  {
   "cell_type": "code",
   "execution_count": 18,
   "metadata": {},
   "outputs": [
    {
     "data": {
      "text/plain": [
       "Text(0, 0.5, 'Sales in USD')"
      ]
     },
     "execution_count": 18,
     "metadata": {},
     "output_type": "execute_result"
    },
    {
     "data": {
      "image/png": "[encoded data removed]",
      "text/plain": [
       "<Figure size 864x432 with 1 Axes>"
      ]
     },
     "metadata": {
      "needs_background": "light"
     },
     "output_type": "display_data"
    }
   ],
   "source": [
    "# Creating a 'year' column in GameSales dataframe\n",
    "gameSales['year'] = gameSales['effective_date'].dt.year\n",
    "\n",
    "# Creating a new dataframe that will display the total prices per year of published games\n",
    "pricePerYear = gameSales.groupby('year', as_index=False)['price'].sum()\n",
    "\n",
    "#creating another dataframe for just the last 3 years\n",
    "pricePerLastThreeYears = pricePerYear.loc[2:4]\n",
    "\n",
    "#Plotting the last 3 years' total pricing data on a bargraph\n",
    "pricePerLastThreeYears.plot.bar(x='year',y='price',title=\"Total Price of Published Games in Last 3 Years\", figsize=(12,6))\n",
    "\n",
    "firstYear = pricePerLastThreeYears.loc[2]['price']\n",
    "secondYear = pricePerLastThreeYears.loc[3]['price']\n",
    "thirdYear = pricePerLastThreeYears.loc[4]['price']\n",
    "\n",
    "#Adding labels\n",
    "plt.text(0,300, firstYear)\n",
    "plt.text(1, 4700, secondYear)\n",
    "plt.text(2,1500, thirdYear)\n",
    "plt.ylabel('Sales in USD')"
   ]
  },
  {
   "cell_type": "markdown",
   "metadata": {},
   "source": [
    "#### Conclusion: The Epic Games Store website was launched in December 2018, so it makes sense that only $169.95 USD worth of games were available. Data for the pricing of games for 2020 is still ongoing, and the year is not over yet, so the low total pricing of games for this year is expected."
   ]
  },
  {
   "cell_type": "markdown",
   "metadata": {},
   "source": [
    "  "
   ]
  },
  {
   "cell_type": "markdown",
   "metadata": {},
   "source": [
    "# Publisher Battle: Total Price of Electronic Arts games vs. Total Price of Sony Interactive Entertainment games"
   ]
  },
  {
   "cell_type": "markdown",
   "metadata": {},
   "source": [
    "  "
   ]
  },
  {
   "cell_type": "markdown",
   "metadata": {},
   "source": [
    "### I hypothesis that EA (Electronic Arts) total game prices will be much greater than that of Sony Interactive Entertainment, as they seem more popular and I see a lot more games released under their name. "
   ]
  },
  {
   "cell_type": "markdown",
   "metadata": {},
   "source": [
    "   "
   ]
  },
  {
   "cell_type": "code",
   "execution_count": 19,
   "metadata": {
    "scrolled": true
   },
   "outputs": [
    {
     "data": {
      "text/plain": [
       "Text(0, 0.5, 'Total Price in USD')"
      ]
     },
     "execution_count": 19,
     "metadata": {},
     "output_type": "execute_result"
    },
    {
     "data": {
      "image/png": "[encoded data removed]",
      "text/plain": [
       "<Figure size 432x288 with 1 Axes>"
      ]
     },
     "metadata": {
      "needs_background": "light"
     },
     "output_type": "display_data"
    }
   ],
   "source": [
    "ea_publishers = gameSales[gameSales.publisher == 'Electronic Arts']\n",
    "sony_publishers = gameSales[gameSales.publisher == 'Sony Interactive Entertainment']\n",
    "\n",
    "plt.title('Total Prices of Electronic Arts games vs. Total Prices of Sony Interactive Entertainment games', fontdict={'fontname': 'Dejavu Sans', 'fontsize': 20})\n",
    "\n",
    "easum = ea_publishers['price'].sum()\n",
    "sonysum = sony_publishers['price'].sum()\n",
    "\n",
    "\n",
    "ax = sns.barplot(x=['Electronic Arts', 'Sony Interactive Entertainment'], y=[easum, sonysum])\n",
    "\n",
    "\n",
    "plt.text(0, 5, easum)\n",
    "plt.text(1, 5, sonysum)\n",
    "\n",
    "ax.set_xlabel(\"Publisher Name\")\n",
    "ax.set_ylabel(\"Total Price in USD\")"
   ]
  },
  {
   "cell_type": "markdown",
   "metadata": {},
   "source": [
    "#### Conclusion: It is clear that the total price of games for EA is greater than that of Sony Interactive Entertainment."
   ]
  },
  {
   "cell_type": "markdown",
   "metadata": {},
   "source": [
    "  "
   ]
  },
  {
   "cell_type": "markdown",
   "metadata": {},
   "source": [
    "  "
   ]
  },
  {
   "cell_type": "markdown",
   "metadata": {},
   "source": [
    "# Fun with Strings"
   ]
  },
  {
   "cell_type": "markdown",
   "metadata": {},
   "source": [
    "#### How many game titles include the word \"The\"?"
   ]
  },
  {
   "cell_type": "code",
   "execution_count": 20,
   "metadata": {},
   "outputs": [
    {
     "data": {
      "text/plain": [
       "47"
      ]
     },
     "execution_count": 20,
     "metadata": {},
     "output_type": "execute_result"
    }
   ],
   "source": [
    "gameSales[gameSales['title'].str.contains('The' or 'the')]\n",
    "gameSales.title.str.count(\"The\" or 'the').sum()"
   ]
  },
  {
   "cell_type": "markdown",
   "metadata": {},
   "source": [
    "   "
   ]
  },
  {
   "cell_type": "markdown",
   "metadata": {},
   "source": [
    "#### How many game titles include the number \"2\" or the word \"two\"?"
   ]
  },
  {
   "cell_type": "code",
   "execution_count": 21,
   "metadata": {},
   "outputs": [
    {
     "data": {
      "text/plain": [
       "20"
      ]
     },
     "execution_count": 21,
     "metadata": {},
     "output_type": "execute_result"
    }
   ],
   "source": [
    "gameSales[gameSales['title'].str.contains('2' or 'Two')]\n",
    "gameSales.title.str.count(\"2\" or 'Two').sum()"
   ]
  },
  {
   "cell_type": "markdown",
   "metadata": {},
   "source": [
    "  "
   ]
  },
  {
   "cell_type": "markdown",
   "metadata": {},
   "source": [
    "#### What are the most common words when naming video games?"
   ]
  },
  {
   "cell_type": "code",
   "execution_count": 22,
   "metadata": {},
   "outputs": [
    {
     "name": "stdout",
     "output_type": "stream",
     "text": [
      "The history saving thread hit an unexpected error (OperationalError('disk I/O error')).History will not be written to the database.\n"
     ]
    },
    {
     "data": {
      "image/png": "[encoded data removed]",
      "text/plain": [
       "<Figure size 1440x720 with 1 Axes>"
      ]
     },
     "metadata": {},
     "output_type": "display_data"
    }
   ],
   "source": [
    "controller_mask = np.array(Image.open(\"assets/controller_mask.png\"))\n",
    "\n",
    "def transform_format(val):\n",
    "    if val == 1:\n",
    "        return 255\n",
    "    else:\n",
    "        return val\n",
    "    \n",
    "\n",
    "# Transform your mask into a new one that will work with the function:\n",
    "transformed_controller_mask = np.ndarray((controller_mask.shape[0],controller_mask.shape[1]), np.int32)\n",
    "\n",
    "for i in range(len(controller_mask)):\n",
    "    transformed_controller_mask[i] = list(map(transform_format, controller_mask[i]))\n",
    "\n",
    "stopwords = set(STOPWORDS)\n",
    "plt.subplots(figsize=(20,10), facecolor = 'k')\n",
    "wordcloud = WordCloud(mask=controller_mask,background_color=\"black\",colormap=\"hsv\" ,contour_width=2, contour_color=\"midnightblue\",\n",
    "                      width=800,stopwords=stopwords,\n",
    "                          height=600\n",
    "                         ).generate(\" \".join(gameSales.title))\n",
    "\n",
    "plt.imshow(wordcloud ,interpolation='bilinear')\n",
    "plt.axis('off')\n",
    "plt.savefig('wordcloud.png', facecolor='k', bbox_inches='tight')\n"
   ]
  },
  {
   "cell_type": "markdown",
   "metadata": {},
   "source": [
    "#### Conclusion: Commonly used words for game titles include \"Edition\", \"Far Cry\" and \"Batman\"."
   ]
  },
  {
   "cell_type": "markdown",
   "metadata": {},
   "source": [
    "  "
   ]
  },
  {
   "cell_type": "markdown",
   "metadata": {},
   "source": [
    "# How Many Free Games Were Published in Epic Games Store?"
   ]
  },
  {
   "cell_type": "markdown",
   "metadata": {},
   "source": [
    "   #### I hypothesis that a total of 50 free games have been published in the Epic Games Store thus far, after all - developing games isn't cheap."
   ]
  },
  {
   "cell_type": "code",
   "execution_count": 23,
   "metadata": {},
   "outputs": [
    {
     "data": {
      "text/plain": [
       "Text(0, 0.5, '# of Free Games Per Year')"
      ]
     },
     "execution_count": 23,
     "metadata": {},
     "output_type": "execute_result"
    },
    {
     "data": {
      "image/png": "[encoded data removed]",
      "text/plain": [
       "<Figure size 432x288 with 1 Axes>"
      ]
     },
     "metadata": {
      "needs_background": "light"
     },
     "output_type": "display_data"
    }
   ],
   "source": [
    "# Creating a new dataframe that will display the number of free published games per year\n",
    "freeGamesPerYear = gameSales[(gameSales['price']==0.00)]\n",
    "\n",
    "# Creating another dataframe that will display the total number per year of free published games\n",
    "freeGames = freeGamesPerYear.groupby('year', as_index=False)['price'].count()\n",
    "\n",
    "# #Plotting the data using a line graph\n",
    "ax = freeGames.plot(x ='year', y='price', kind = 'line')\n",
    "\n",
    "\n",
    "# # Plot ticks with a rotation\n",
    "ax.set_xlim(2017, 2040, 'ro')\n",
    "\n",
    "# Set the x-axis label\n",
    "ax.set_xlabel(\"Year\")\n",
    "\n",
    "# Set the y-axis label\n",
    "ax.set_ylabel(\"# of Free Games Per Year\")"
   ]
  },
  {
   "cell_type": "markdown",
   "metadata": {},
   "source": [
    "   "
   ]
  },
  {
   "cell_type": "code",
   "execution_count": 24,
   "metadata": {},
   "outputs": [
    {
     "data": {
      "text/html": [
       "<div>\n",
       "<style scoped>\n",
       "    .dataframe tbody tr th:only-of-type {\n",
       "        vertical-align: middle;\n",
       "    }\n",
       "\n",
       "    .dataframe tbody tr th {\n",
       "        vertical-align: top;\n",
       "    }\n",
       "\n",
       "    .dataframe thead th {\n",
       "        text-align: right;\n",
       "    }\n",
       "</style>\n",
       "<table border=\"1\" class=\"dataframe\">\n",
       "  <thead>\n",
       "    <tr style=\"text-align: right;\">\n",
       "      <th></th>\n",
       "      <th>year</th>\n",
       "      <th>price</th>\n",
       "    </tr>\n",
       "  </thead>\n",
       "  <tbody>\n",
       "    <tr>\n",
       "      <td>0</td>\n",
       "      <td>2017</td>\n",
       "      <td>1</td>\n",
       "    </tr>\n",
       "    <tr>\n",
       "      <td>1</td>\n",
       "      <td>2018</td>\n",
       "      <td>3</td>\n",
       "    </tr>\n",
       "    <tr>\n",
       "      <td>2</td>\n",
       "      <td>2019</td>\n",
       "      <td>4</td>\n",
       "    </tr>\n",
       "    <tr>\n",
       "      <td>3</td>\n",
       "      <td>2020</td>\n",
       "      <td>2</td>\n",
       "    </tr>\n",
       "    <tr>\n",
       "      <td>4</td>\n",
       "      <td>2099</td>\n",
       "      <td>18</td>\n",
       "    </tr>\n",
       "  </tbody>\n",
       "</table>\n",
       "</div>"
      ],
      "text/plain": [
       "   year  price\n",
       "0  2017      1\n",
       "1  2018      3\n",
       "2  2019      4\n",
       "3  2020      2\n",
       "4  2099     18"
      ]
     },
     "execution_count": 24,
     "metadata": {},
     "output_type": "execute_result"
    }
   ],
   "source": [
    "freeGames = freeGamesPerYear.groupby('year', as_index=False)['price'].count()\n",
    "freeGames"
   ]
  },
  {
   "cell_type": "markdown",
   "metadata": {},
   "source": [
    "#### Conclusion: Only 28 free games have been published in the Epic Games Store thus far."
   ]
  },
  {
   "cell_type": "markdown",
   "metadata": {},
   "source": [
    "   "
   ]
  },
  {
   "cell_type": "markdown",
   "metadata": {},
   "source": [
    "# Next Steps"
   ]
  },
  {
   "cell_type": "markdown",
   "metadata": {},
   "source": [
    "For my next steps, I'd like to research why years \"2017\" and \"2099\" are included in this dataframe, even though the Epic Games Store has only been around since December 2018.\n",
    "\n",
    "I would also like to discover how many games per Year have been released to the Online Store for MAC versus Windows."
   ]
  }
 ],
 "metadata": {
  "kernelspec": {
   "display_name": "Python 3",
   "language": "python",
   "name": "python3"
  },
  "language_info": {
   "codemirror_mode": {
    "name": "ipython",
    "version": 3
   },
   "file_extension": ".py",
   "mimetype": "text/x-python",
   "name": "python",
   "nbconvert_exporter": "python",
   "pygments_lexer": "ipython3",
   "version": "3.7.4"
  }
 },
 "nbformat": 4,
 "nbformat_minor": 2
}
